{
 "cells": [
  {
   "cell_type": "code",
   "execution_count": null,
   "metadata": {},
   "outputs": [],
   "source": [
    "import pandas as pd\n",
    "import matplotlib.pyplot as plt\n",
    "import sys\n",
    "import os\n",
    "from pathlib import Path\n",
    "PROJECT_DIR =Path(os.path.abspath('')).parents[1]\n",
    "sys.path.append(os.fspath(PROJECT_DIR))\n",
    "from pipeline.definitions import *\n",
    "import matplotlib as mpl"
   ]
  },
  {
   "cell_type": "markdown",
   "metadata": {},
   "source": [
    "### Select graphic settings"
   ]
  },
  {
   "cell_type": "code",
   "execution_count": null,
   "metadata": {},
   "outputs": [],
   "source": [
    "graph_setting=\"notebook\" #or \"article\""
   ]
  },
  {
   "cell_type": "code",
   "execution_count": null,
   "metadata": {},
   "outputs": [],
   "source": [
    "if graph_setting==\"article\":\n",
    "    \n",
    "    #journal-quality parameter settings\n",
    "    resolution_factor=2\n",
    "    desired_font=10\n",
    "\n",
    "elif graph_setting==\"notebook\":\n",
    "    resolution_factor=1\n",
    "    desired_font=12\n",
    "    \n",
    "#conversion factors\n",
    "cm_to_inch=0.393701\n",
    "classic_proportion=6.4/4.8\n",
    "golden_rate=1.618\n",
    "\n",
    "#Elsevier column width is 8.4 cm, double-column width is 17.7 cm (in inches: 3.31 and 6.97)\n",
    "small_figsize=(resolution_factor*3.31, resolution_factor*3.31/classic_proportion)\n",
    "big_figsize=(resolution_factor*6.97, resolution_factor*6.97/classic_proportion)\n",
    "\n",
    "#changings regarding fonttypex\n",
    "mpl.rcParams['pdf.fonttype'] = 42\n",
    "mpl.rcParams['ps.fonttype'] = 42\n",
    "mpl.rcParams['font.family'] = \"Arial\"\n",
    "\n",
    "font_size=resolution_factor*desired_font\n",
    "\n",
    "\n",
    "#define path for figures\n",
    "figures_path=FIGURES\n",
    "#check existance of figure path\n",
    "if not os.path.exists(figures_path):\n",
    "    print(\"The selected directory to store figures does not exist\")"
   ]
  },
  {
   "cell_type": "markdown",
   "metadata": {},
   "source": [
    "## Data Import"
   ]
  },
  {
   "cell_type": "code",
   "execution_count": null,
   "metadata": {},
   "outputs": [],
   "source": [
    "# Get dataset and load it as a Pandas DataFrame\n",
    "data = pd.read_csv(os.path.join(DATA_NORMALIZED,'norm_ts_buildings_dataset.csv'))\n",
    "print(\"Data shape:\")\n",
    "print(data.shape)\n",
    "n_keys=len(data.ID.unique())\n",
    "print(\"\\nThe dataset contains \"+str(n_keys)+\" case studies\\n\")\n",
    "print(\"Case studies contain an average of \"+str(int(data.shape[0]/n_keys))+\" time steps and \"+str(data.shape[1]-1)+\" variables.\\n\")"
   ]
  },
  {
   "cell_type": "markdown",
   "metadata": {},
   "source": [
    "### Visualize normalized load time series"
   ]
  },
  {
   "cell_type": "code",
   "execution_count": null,
   "metadata": {},
   "outputs": [],
   "source": [
    "fig, axs=plt.subplots(1, figsize=big_figsize)\n",
    "caseStudies=data.ID.unique()\n",
    "for caseStudy in caseStudies:\n",
    "    df=data.loc[data.ID==caseStudy, :]\n",
    "    axs.plot(df.P.values,  linewidth=0.2, alpha=0.5)\n",
    "    \n",
    "axs.tick_params(labelsize=font_size)\n",
    "axs.set_xlabel(\"Time $[h]$\", fontsize=font_size)\n",
    "axs.set_ylabel(\"Electrical Load $[kWh]$\", fontsize=font_size)\n",
    "axs.set_title(\"Normalized electrical load for the different case studies available\")"
   ]
  },
  {
   "cell_type": "code",
   "execution_count": null,
   "metadata": {},
   "outputs": [],
   "source": []
  }
 ],
 "metadata": {
  "kernelspec": {
   "display_name": "Python 3 (ipykernel)",
   "language": "python",
   "name": "python3"
  },
  "language_info": {
   "codemirror_mode": {
    "name": "ipython",
    "version": 3
   },
   "file_extension": ".py",
   "mimetype": "text/x-python",
   "name": "python",
   "nbconvert_exporter": "python",
   "pygments_lexer": "ipython3",
   "version": "3.9.18"
  },
  "vscode": {
   "interpreter": {
    "hash": "88688c6e448969839ee4163a6b670935eee153233d49c269b97f67337e0696f7"
   }
  }
 },
 "nbformat": 4,
 "nbformat_minor": 4
}
