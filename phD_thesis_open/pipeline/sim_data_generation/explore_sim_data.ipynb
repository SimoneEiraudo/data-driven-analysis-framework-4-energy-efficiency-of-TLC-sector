{
 "cells": [
  {
   "cell_type": "markdown",
   "id": "c3149ab4-d8da-4e06-bc45-2d661a049468",
   "metadata": {},
   "source": [
    "This notebook is intended to support a brief data exploration of the results from the simulations performed by using the RC models contained in script dc_ro_model.py . \n",
    "\n",
    "A more in depth analysis of such simulations, including a comparative one of different case studies, is available in notebook compare_scenarios.ipynb"
   ]
  },
  {
   "cell_type": "code",
   "execution_count": null,
   "id": "b84dc3b6-32c4-4b76-9b3f-01720d3c3e7d",
   "metadata": {},
   "outputs": [],
   "source": [
    "import numpy as np\n",
    "from scipy import stats\n",
    "import pandas as pd\n",
    "import matplotlib.pyplot as plt\n",
    "import sys\n",
    "import os\n",
    "from pathlib import Path\n",
    "PROJECT_DIR =Path(os.path.abspath('')).parents[1]\n",
    "\n",
    "sys.path.append(os.fspath(PROJECT_DIR))\n",
    "from pipeline.definitions import *\n",
    "\n",
    "from os import listdir\n",
    "from os.path import isfile, join\n",
    "\n",
    "\n",
    "import matplotlib as mpl\n",
    "import colorsys\n",
    "import matplotlib.colors as mc\n",
    "import itertools"
   ]
  },
  {
   "cell_type": "markdown",
   "id": "11f15ce5-7adc-4832-a17a-98645584059b",
   "metadata": {},
   "source": [
    "### Select graphic settings"
   ]
  },
  {
   "cell_type": "code",
   "execution_count": null,
   "id": "aad3f34d-64d4-4aa0-a7ea-72fb87068846",
   "metadata": {},
   "outputs": [],
   "source": [
    "graph_setting=\"notebook\" #or \"article\""
   ]
  },
  {
   "cell_type": "code",
   "execution_count": null,
   "id": "f7241dd1-f15b-4c85-9d84-f3c520524cfc",
   "metadata": {},
   "outputs": [],
   "source": [
    "if graph_setting==\"article\":\n",
    "    \n",
    "    #journal-quality parameter settings\n",
    "    resolution_factor=2\n",
    "    desired_font=10\n",
    "\n",
    "elif graph_setting==\"notebook\":\n",
    "    resolution_factor=1\n",
    "    desired_font=12\n",
    "    \n",
    "#conversion factors\n",
    "cm_to_inch=0.393701\n",
    "classic_proportion=6.4/4.8\n",
    "golden_rate=1.618\n",
    "\n",
    "#Elsevier column width is 8.4 cm, double-column width is 17.7 cm (in inches: 3.31 and 6.97)\n",
    "small_figsize=(resolution_factor*3.31, resolution_factor*3.31/classic_proportion)\n",
    "big_figsize=(resolution_factor*6.97, resolution_factor*6.97/classic_proportion)\n",
    "\n",
    "#changings regarding fonttypex\n",
    "mpl.rcParams['pdf.fonttype'] = 42\n",
    "mpl.rcParams['ps.fonttype'] = 42\n",
    "mpl.rcParams['font.family'] = \"Arial\"\n",
    "\n",
    "font_size=resolution_factor*desired_font\n",
    "\n",
    "#define colors palette\n",
    "#thermal fluxes\n",
    "colors={}\n",
    "colors[\"Q_gain\"]=\"orangered\" \n",
    "colors[\"Q_sol\"]=\"gold\"\n",
    "colors[\"Q_tras\"]=\"mediumseagreen\"\n",
    "colors[\"Q_vent\"]=\"plum\"\n",
    "colors[\"Q_cool\"]=\"cornflowerblue\"\n",
    "#electrical fluxes\n",
    "colors[\"P_tlc\"]=\"orangered\" \n",
    "colors[\"P_diss\"]=\"crimson\"\n",
    "colors[\"P_vent\"]=\"plum\"\n",
    "colors[\"P_cool\"]=\"cornflowerblue\"\n",
    "colors[\"P\"]=\"gray\"\n",
    "\n",
    "#define path for figures\n",
    "figures_path=FIGURES\n",
    "#check existance of figure path\n",
    "if not os.path.exists(figures_path):\n",
    "    print(\"The selected directory to store figures does not exist\")"
   ]
  },
  {
   "cell_type": "markdown",
   "id": "4088ca2a-4df4-4ea4-badd-bd93747aebc5",
   "metadata": {},
   "source": [
    "### Load data"
   ]
  },
  {
   "cell_type": "code",
   "execution_count": null,
   "id": "238fcb7b-6c2c-4908-9c0b-5afa3dac2e04",
   "metadata": {},
   "outputs": [],
   "source": [
    "#then  load and modify simulated data to be compliant with real ones\n",
    "path=SIM_DATA_NO_FORMAT\n",
    "files= [f for f in listdir(path) if isfile(join(path, f))]"
   ]
  },
  {
   "cell_type": "code",
   "execution_count": null,
   "id": "a155b21a-24c3-4a64-b789-f2192361dda9",
   "metadata": {},
   "outputs": [],
   "source": [
    "files"
   ]
  },
  {
   "cell_type": "code",
   "execution_count": null,
   "id": "3ed4eca7-717f-4fc5-a043-21e4a145ff0f",
   "metadata": {},
   "outputs": [],
   "source": [
    "file='simData_building_A_cold_weather_retrofit_A'\n",
    "gen_df=pd.read_csv(path+\"/\"+file)"
   ]
  },
  {
   "cell_type": "markdown",
   "id": "c38c2017-e94a-4c26-bdce-1a87dc527912",
   "metadata": {},
   "source": [
    "### Check COP curve"
   ]
  },
  {
   "cell_type": "code",
   "execution_count": null,
   "id": "2d68666f-0e12-4e26-8fe2-1e0d1260dd30",
   "metadata": {},
   "outputs": [],
   "source": [
    "fig=plt.figure(figsize=(4.5,3))\n",
    "#plt.scatter(df.T_ext, df.cop)\n",
    "df=gen_df.sort_values(by=\"T_ext\")\n",
    "df['mean_cop'] =df.cop.rolling(10, min_periods=1).mean()\n",
    "plt.vlines([10.5, 29], 0, 5, color=\"black\", linestyle=\"--\")\n",
    "plt.axvspan(0, 10.5, alpha=0.15, color='blue')\n",
    "plt.axvspan( 10.5, 29, alpha=0.15, color='green')\n",
    "plt.axvspan(29, 100, alpha=0.15, color='red')\n",
    "plt.scatter(df.T_ext, df['cop'], s=0.8, color=\"gray\", alpha=0.8)\n",
    "plt.ylim([0.8, 5])\n",
    "plt.xlim([5, 35])\n",
    "plt.yticks(np.linspace(1, 5, 9), labels=np.linspace(1, 5, 9))\n",
    "\n",
    "plt.ylabel(\"COP value\")\n",
    "plt.xlabel(\"External Temperature [$T_{ext}$]\")\n",
    "fig.savefig(figures_path+\"/simulated_cop_curve\", bbox_inches='tight', dpi=200)"
   ]
  },
  {
   "cell_type": "markdown",
   "id": "30cdf486-7382-4fda-9630-2a0587044d43",
   "metadata": {},
   "source": [
    "### Check noise addition"
   ]
  },
  {
   "cell_type": "code",
   "execution_count": null,
   "id": "e46c46ea-802d-4514-a2a2-d1be5feadc10",
   "metadata": {},
   "outputs": [],
   "source": [
    "fig, ax=plt.subplots(1, figsize=big_figsize)\n",
    "#plt.plot(gen_df.P)\n",
    "\n",
    "ax.tick_params(labelsize=font_size-2)\n",
    "ax.plot(gen_df.P, color=\"lightcoral\")\n",
    "ax.plot(gen_df.P-gen_df.epsilon, color=\"midnightblue\")\n",
    "\n",
    "# plt.scatter(gen_df.T_ext, gen_df.P-gen_df.epsilon-gen_df.epsilon_h-gen_df.epsilon_ar-gen_df.eta, s=1)\n",
    "# plt.scatter(gen_df.T_ext, gen_df.P, s=1)\n",
    "ax.set_xlim([5000, 5000+24*4])\n",
    "ax.set_xlabel(\"Time $[h]$\", fontsize=font_size)\n",
    "ax.set_ylabel(\"Electrical Load $[kWh]$\", fontsize=font_size)\n",
    "\n",
    "ax.legend([\"Noisy TS\",\"Simulated TS\"], fontsize=font_size)\n",
    "fig.savefig(figures_path+\"/ts_noise_addition_ex\", bbox_inches='tight', dpi=200)"
   ]
  },
  {
   "cell_type": "markdown",
   "id": "cfd31f22-6026-488b-9b2c-6f3843498625",
   "metadata": {},
   "source": [
    "### Check thermal fluxes"
   ]
  },
  {
   "cell_type": "code",
   "execution_count": null,
   "id": "9b113557-9253-4358-be63-c19c2455f4ba",
   "metadata": {},
   "outputs": [],
   "source": [
    "df=gen_df\n",
    "\n",
    "fig, axs = plt.subplots(3, figsize=big_figsize, sharex=True)\n",
    "\n",
    "for ax, quota in zip(axs, ['Q_tras', 'Q_vent', 'Q_sol']):\n",
    "    df[quota].plot(ax=ax,alpha=0.8, color=colors[quota])\n",
    "    xlims=ax.get_xlim()\n",
    "    ax.hlines(0, -1000, 19000, color=\"gray\", linestyle=\"--\")\n",
    "    ax.set_xlim(xlims)\n",
    "\n",
    "\n",
    "for ax in axs:\n",
    "    ax.tick_params(labelsize=font_size-2)\n",
    "    legend_labels=ax.get_legend_handles_labels()\n",
    "    new_legend_labels=[\"$\"+label.split(\"_\")[0]+\"_{\"+label.split(\"_\")[1]+\"}$\" for label in legend_labels[1]]\n",
    "    ax.legend(labels=new_legend_labels, fontsize=font_size)\n",
    "\n",
    "axs[1].set_ylabel('Heat Flows [W]', fontsize=font_size)\n",
    "axs[2].set_xlabel(\"Time $[h]$\", fontsize=font_size)\n",
    "plt.tight_layout()\n",
    "fig.savefig(figures_path+\"/sim_heat_flow_ts_separated\", bbox_inches='tight', dpi=200)"
   ]
  },
  {
   "cell_type": "code",
   "execution_count": null,
   "id": "2cbadf03-04b5-4568-8fc6-f47e4624ef54",
   "metadata": {},
   "outputs": [],
   "source": [
    "df=gen_df\n",
    "\n",
    "\n",
    "fig, axs = plt.subplots(2, figsize=big_figsize, sharex=True)\n",
    "\n",
    "for quota in ['Q_tras', 'Q_gain', 'Q_sol', 'Q_vent']:\n",
    "    df[quota].plot(ax=axs[0],alpha=0.8, color=colors[quota])\n",
    "    \n",
    "axs[0].set_ylabel('Heat Flows [W]', fontsize=font_size)\n",
    "df['Q_cool'].plot(ax=axs[1], label='Q_cool', fontsize=font_size, color=colors[\"Q_cool\"])\n",
    "axs[1].set_ylabel('Total Heat Flow [W]', fontsize=font_size)\n",
    "\n",
    "\n",
    "for ax in axs:\n",
    "    ax.tick_params(labelsize=font_size-2)\n",
    "    legend_labels=ax.get_legend_handles_labels()\n",
    "    new_legend_labels=[\"$\"+label.split(\"_\")[0]+\"_{\"+label.split(\"_\")[1]+\"}$\" for label in legend_labels[1]]\n",
    "    ax.legend(labels=new_legend_labels, fontsize=font_size)\n",
    "\n",
    "axs[1].set_xlabel(\"Time $[h]$\", fontsize=font_size)\n",
    "plt.tight_layout()\n",
    "fig.savefig(figures_path+\"/sim_heat_flows_ts_sum\", bbox_inches='tight', dpi=200)"
   ]
  },
  {
   "cell_type": "markdown",
   "id": "1ef1f260-520d-495d-ab70-cefa557800c0",
   "metadata": {},
   "source": [
    "### Check energy balance"
   ]
  },
  {
   "cell_type": "code",
   "execution_count": null,
   "id": "7ac44352-fd4e-4c99-be6a-5ffe7e5c406d",
   "metadata": {},
   "outputs": [],
   "source": [
    "fig, axs = plt.subplots(2, figsize=big_figsize, sharex=True)\n",
    "\n",
    "for quota in ['P_cool', 'P_tlc', 'P_diss', 'P_vent']:\n",
    "    df[quota].plot(ax=axs[0], color=colors[quota])\n",
    "axs[0].set_ylabel('Electrical Power [W]', fontsize=font_size)\n",
    "df['P'].plot(ax=axs[1], label='P_tot', color=colors[\"P\"])\n",
    "axs[1].set_ylabel('Total Electrical Power [W]', fontsize=font_size)\n",
    "\n",
    "for ax in axs:\n",
    "    ax.tick_params(labelsize=font_size-2)\n",
    "    legend_labels=ax.get_legend_handles_labels()\n",
    "    new_legend_labels=[\"$\"+label.split(\"_\")[0]+\"_{\"+label.split(\"_\")[1]+\"}$\" for label in legend_labels[1]]\n",
    "    ax.legend(labels=new_legend_labels, fontsize=font_size)\n",
    "\n",
    "axs[1].set_xlabel(\"Time $[h]$\", fontsize=font_size)\n",
    "plt.tight_layout()\n",
    "#fig.savefig(figures_path+\"/sim_electrical_quotas_ts\", bbox_inches='tight', dpi=200)"
   ]
  },
  {
   "cell_type": "code",
   "execution_count": null,
   "id": "ed4bf895-27dc-42b4-922f-cb1db33cbeeb",
   "metadata": {},
   "outputs": [],
   "source": []
  }
 ],
 "metadata": {
  "kernelspec": {
   "display_name": "Python 3 (ipykernel)",
   "language": "python",
   "name": "python3"
  },
  "language_info": {
   "codemirror_mode": {
    "name": "ipython",
    "version": 3
   },
   "file_extension": ".py",
   "mimetype": "text/x-python",
   "name": "python",
   "nbconvert_exporter": "python",
   "pygments_lexer": "ipython3",
   "version": "3.9.18"
  }
 },
 "nbformat": 4,
 "nbformat_minor": 5
}
