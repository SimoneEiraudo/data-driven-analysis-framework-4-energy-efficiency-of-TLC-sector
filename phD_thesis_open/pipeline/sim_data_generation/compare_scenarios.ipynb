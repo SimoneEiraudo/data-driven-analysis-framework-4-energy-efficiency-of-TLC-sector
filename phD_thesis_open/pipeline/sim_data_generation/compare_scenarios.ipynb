{
 "cells": [
  {
   "cell_type": "markdown",
   "id": "10ddccdb-379e-4074-89e1-59c5be33b8c3",
   "metadata": {},
   "source": [
    "This notebook is intended for comparison of the electrical consumption of simulated buildings (script dc_ro_model.py), considering:\n",
    "- Different weather conditions\n",
    "- Retrofit actions\n",
    "- Abnormal events\n",
    "\n",
    "The notebook was designed for comparison of 2 different weathers, 2 buildings, 5 anomalies, and 5 retrofit. If the whole set of these simulation configurations has not been employed, the notebook will not provide the desired output. Make sure all the simulated data have been produces (script dc_ro_model.py) and are available in folder datasets/sim_data/from_generator ."
   ]
  },
  {
   "cell_type": "code",
   "execution_count": null,
   "id": "eb6ca8e3-a77d-44a3-bf82-36279d10d3a6",
   "metadata": {},
   "outputs": [],
   "source": [
    "import numpy as np\n",
    "from scipy import stats\n",
    "import pandas as pd\n",
    "import matplotlib.pyplot as plt\n",
    "import sys\n",
    "import os\n",
    "from pathlib import Path\n",
    "PROJECT_DIR =Path(os.path.abspath('')).parents[1]\n",
    "\n",
    "sys.path.append(os.fspath(PROJECT_DIR))\n",
    "from pipeline.definitions import *\n",
    "\n",
    "from os import listdir\n",
    "from os.path import isfile, join\n",
    "\n",
    "import matplotlib as mpl\n",
    "import colorsys\n",
    "import matplotlib.colors as mc\n",
    "import itertools\n",
    "from pipeline.rc_model_fx import plot_timeseries, plot_energy_signature, fit_energy_signature, calc_PUE"
   ]
  },
  {
   "cell_type": "markdown",
   "id": "b96324f5-32f6-41d7-be36-a881d6b24412",
   "metadata": {},
   "source": [
    "### Select graphic settings"
   ]
  },
  {
   "cell_type": "code",
   "execution_count": null,
   "id": "bea30613-97f8-4a0c-8f02-42cfab7db339",
   "metadata": {},
   "outputs": [],
   "source": [
    "graph_setting=\"notebook\" #or \"article\""
   ]
  },
  {
   "cell_type": "code",
   "execution_count": null,
   "id": "be17d385-a317-4a38-af55-ddb237477ca5",
   "metadata": {},
   "outputs": [],
   "source": [
    "if graph_setting==\"article\":\n",
    "    \n",
    "    #journal-quality parameter settings\n",
    "    resolution_factor=2\n",
    "    desired_font=10\n",
    "\n",
    "elif graph_setting==\"notebook\":\n",
    "    resolution_factor=1\n",
    "    desired_font=12\n",
    "    \n",
    "#conversion factors\n",
    "cm_to_inch=0.393701\n",
    "classic_proportion=6.4/4.8\n",
    "golden_rate=1.618\n",
    "\n",
    "#Elsevier column width is 8.4 cm, double-column width is 17.7 cm (in inches: 3.31 and 6.97)\n",
    "small_figsize=(resolution_factor*3.31, resolution_factor*3.31/classic_proportion)\n",
    "big_figsize=(resolution_factor*6.97, resolution_factor*6.97/classic_proportion)\n",
    "\n",
    "#changings regarding fonttypex\n",
    "mpl.rcParams['pdf.fonttype'] = 42\n",
    "mpl.rcParams['ps.fonttype'] = 42\n",
    "mpl.rcParams['font.family'] = \"Arial\"\n",
    "\n",
    "font_size=resolution_factor*desired_font\n",
    "\n",
    "#define colors palette\n",
    "colors={}\n",
    "colors[\"Original\"]=\"dimgray\" \n",
    "colors[\"Anomaly\"]=\"crimson\"\n",
    "colors[\"Retrofit\"]=\"dodgerblue\"\n",
    "colors[\"hot\"]=\"darksalmon\"\n",
    "colors[\"cold\"]=\"mediumturquoise\"\n",
    "\n",
    "#define path for figures\n",
    "figures_path=FIGURES\n",
    "#check existance of figure path\n",
    "if not os.path.exists(figures_path):\n",
    "    print(\"The selected directory to store figures does not exist\")"
   ]
  },
  {
   "cell_type": "markdown",
   "id": "576f42e5-f658-43d0-a96e-be68e83d3c28",
   "metadata": {},
   "source": [
    "### Load data"
   ]
  },
  {
   "cell_type": "code",
   "execution_count": null,
   "id": "cb5bcdf9-3a27-43f3-8555-3ee2c32bf3c5",
   "metadata": {},
   "outputs": [],
   "source": [
    "path=SIM_DATA_NO_FORMAT\n",
    "datasets = [f for f in listdir(path) if isfile(join(path, f)) and \"simData\" in f]\n",
    "buildings=list(set([f.split(\"_\")[2] for f in datasets]))\n",
    "weathers=list(set([f.split(\"_\")[3] for f in datasets]))\n",
    "anomalies=list(set([f.split(\"_\")[6] for f in datasets if \"anomaly\" in f]))\n",
    "retrofits=list(set([f.split(\"_\")[6] for f in datasets if \"retrofit\" in f]))"
   ]
  },
  {
   "cell_type": "code",
   "execution_count": null,
   "id": "ec34936a-b95e-4474-ae6d-8fd2221e22ec",
   "metadata": {},
   "outputs": [],
   "source": [
    "print(\"The following buildings are available:\")\n",
    "print(set(buildings))\n",
    "print(\"The following weathers are available:\")\n",
    "print(set(weathers))\n",
    "print(\"The following anomalies are available:\")\n",
    "print(anomalies)\n",
    "print(\"The following retrofits are available:\")\n",
    "print(retrofits)"
   ]
  },
  {
   "cell_type": "code",
   "execution_count": null,
   "id": "e66f6a95-39c0-4816-80bc-2fae52096f25",
   "metadata": {},
   "outputs": [],
   "source": [
    "if (len(retrofits)<5) or (len(anomalies)<5) or (len(weathers)<2) or (len(buildings)<2):\n",
    "    print(\"WARNING: the whole set of simulations is not available. Make sure that the following numbers of different simulations configurations exist:\\nBuildings: 2\\nWeathers: 2\\nAnomalies: 5\\n Retrofit: 5.\")\n",
    "\n",
    "#load all the datasets in a dictionary\n",
    "dfs={}\n",
    "for building in buildings:\n",
    "    for weather in weathers:\n",
    "        file=\"simData_building_\"+building+\"_\"+weather+\"_weather\"\n",
    "        if file in datasets:\n",
    "            dfs[building, weather, \"original\"]=pd.read_csv(path+\"/\"+file)\n",
    "        for anomaly in anomalies:\n",
    "            file=\"simData_building_\"+building+\"_\"+weather+\"_weather_anomaly_\"+anomaly\n",
    "            if file in datasets:\n",
    "                dfs[building, weather, \"anomaly_\"+anomaly]=pd.read_csv(path+\"/\"+file)\n",
    "        for retrofit in retrofits:\n",
    "            file=\"simData_building_\"+building+\"_\"+weather+\"_weather_retrofit_\"+retrofit\n",
    "            if file in datasets:\n",
    "                dfs[building, weather, \"retrofit_\"+retrofit]=pd.read_csv(path+\"/\"+file)"
   ]
  },
  {
   "cell_type": "markdown",
   "id": "67136879-9493-4acc-a5b5-62818a5b9bff",
   "metadata": {},
   "source": [
    "### Calculate Energy Signatures"
   ]
  },
  {
   "cell_type": "markdown",
   "id": "f5fdc742-019a-4116-87a5-9ce1f83ba727",
   "metadata": {},
   "source": [
    "Consider that this step can take a while is many casestudies exist!"
   ]
  },
  {
   "cell_type": "code",
   "execution_count": null,
   "id": "909df192-ca8f-4ac7-b797-d64ddf1c6126",
   "metadata": {},
   "outputs": [],
   "source": [
    "#calculate all energy signatures\n",
    "es={}\n",
    "for key in dfs.keys():\n",
    "    es[key]=fit_energy_signature(dfs[key])"
   ]
  },
  {
   "cell_type": "markdown",
   "id": "ceb21d03-e2a1-4fe9-b5d4-17ebb154732c",
   "metadata": {},
   "source": [
    "### Compare Weathers"
   ]
  },
  {
   "cell_type": "code",
   "execution_count": null,
   "id": "9d5f63af-3f48-42c0-8abe-728398300230",
   "metadata": {},
   "outputs": [],
   "source": [
    "fig= plt.figure()\n",
    "\n",
    "\n",
    "for building, r in zip(buildings, range(len(buildings))):\n",
    "    for weather, c in zip(weathers, range(len(weathers))):\n",
    "        ax=fig.add_subplot(2,2, 1+r*2+c)\n",
    "        key=(building, weather, \"original\")\n",
    "        plot_energy_signature(es[key], ax=ax)\n",
    "        if r==0:\n",
    "            ax.set_xticks([])\n",
    "            ax.xaxis.set_label_position(\"top\")\n",
    "            ax.set_ylim([80000, 120000])\n",
    "            if c==0:\n",
    "                ax.set_xlabel(\"Hot weather\")\n",
    "            else:\n",
    "                ax.set_xlabel(\"Cold Weather\")\n",
    "        else:\n",
    "            ax.set_xlabel(\"Temperature [°C]\")\n",
    "            ax.set_ylim([160000, 250000])\n",
    "        if c!=0:\n",
    "            ax.set_yticks([])\n",
    "            ax.yaxis.set_label_position(\"right\")\n",
    "            if r==0:\n",
    "                ax.set_ylabel(\"Low Power Density\")\n",
    "            else:\n",
    "                ax.set_ylabel(\"High Power Density\")\n",
    "        else:\n",
    "            ax.set_ylabel(\"Power [kW]\")\n",
    "        ax.set_xlim([-5,35])\n",
    "\n",
    "\n",
    "fig.set_figheight(5)\n",
    "fig.set_figwidth(5)\n",
    "plt.tight_layout()"
   ]
  },
  {
   "cell_type": "code",
   "execution_count": null,
   "id": "1545141d-d4f9-4b6f-a56b-7d5ecf8c1cf4",
   "metadata": {},
   "outputs": [],
   "source": [
    "building=\"B\"\n",
    "legend=[]\n",
    "\n",
    "plt.figure()\n",
    "\n",
    "for weather in weathers:\n",
    "    df=dfs[building, weather, \"original\"]\n",
    "    plt.plot(df.T_ext, color=colors[weather])\n",
    "    legend.append(weather)\n",
    "\n",
    "plt.legend(legend)\n",
    "plt.xlabel(\"Time step\")\n",
    "plt.ylabel(\"Temperature [°C]\")"
   ]
  },
  {
   "cell_type": "code",
   "execution_count": null,
   "id": "7fce27f5-ae18-4822-ab5c-cd2df0e5536c",
   "metadata": {},
   "outputs": [],
   "source": [
    "building=\"B\"\n",
    "legend=[]\n",
    "PUE={}\n",
    "plt.figure()\n",
    "\n",
    "for weather in weathers:\n",
    "    df=dfs[building, weather, \"original\"]\n",
    "    plt.plot(df.P+df.P, color=colors[weather])\n",
    "    \n",
    "    legend.append(weather)\n",
    "    \n",
    "plt.legend(legend)\n",
    "plt.ylabel(\"Electrical Load [kW]\")\n",
    "plt.title(\"Comparison of the same building, located in Torino and Palermo\")\n",
    "\n",
    "print(PUE)"
   ]
  },
  {
   "cell_type": "code",
   "execution_count": null,
   "id": "f93baa6a-a362-4fd4-91f2-c174dabf9efc",
   "metadata": {},
   "outputs": [],
   "source": [
    "monthly_df"
   ]
  },
  {
   "cell_type": "code",
   "execution_count": null,
   "id": "826a579f-f5bd-473f-a93e-87396cc8beb3",
   "metadata": {},
   "outputs": [],
   "source": [
    "colors"
   ]
  },
  {
   "cell_type": "code",
   "execution_count": null,
   "id": "3b378dbf-2d9c-47aa-b66f-74218a1f9a47",
   "metadata": {},
   "outputs": [],
   "source": [
    "monthly_df=pd.DataFrame([])\n",
    "building=\"B\"\n",
    "\n",
    "for weather in weathers:\n",
    "    df=dfs[building, weather, \"original\"]\n",
    "    monthly_df[weather]=df.reindex(np.linspace(0+8760/24,8760-8760/24, 12)).interpolate().P_cool\n",
    "    #legend.append(weather)\n",
    "\n",
    "monthly_df.plot(y=weathers, kind=\"bar\", rot=0, color=[colors[weathers[0]], colors[weathers[1]]])\n",
    "\n",
    "plt.legend(legend)\n",
    "plt.title(\"Comparison of the same building for different weathers\")\n",
    "plt.xlabel(\"Month\")\n",
    "plt.ylabel(\"Monthly consumption for cooling\")\n",
    "plt.xticks(ticks=range(0,12), labels=range(1,13))\n",
    "plt.show()"
   ]
  },
  {
   "cell_type": "markdown",
   "id": "30f28d3f-262d-4cce-9b0f-d18522cc3411",
   "metadata": {},
   "source": [
    "### Check COP curve"
   ]
  },
  {
   "cell_type": "markdown",
   "id": "eeb67b62-36ac-4587-95fe-a33543f249d7",
   "metadata": {},
   "source": [
    "The COP curve should be the same for a same building located under different weather conditions, yet it should differs for retrofit D (sunstitution of cooling machine)."
   ]
  },
  {
   "cell_type": "code",
   "execution_count": null,
   "id": "f4925123-c896-41f7-817e-f535ba530cf3",
   "metadata": {},
   "outputs": [],
   "source": [
    "fig, axs=plt.subplots(2,1, figsize=big_figsize)\n",
    "\n",
    "building=\"A\"\n",
    "retrofit=\"original\"\n",
    "\n",
    "for weather, ax  in zip(weathers, axs):\n",
    "    df=dfs[building, weather, retrofit]\n",
    "    ax.scatter(df.T_ext, df.cop, s=1.5, color=\"gray\")\n",
    "    ax.set_ylabel(\"COP\")\n",
    "    ax.legend([weather+ \" weather\"])\n",
    "\n",
    "fig.suptitle(\"Performance of cooling\")\n",
    "axs[1].set_xlabel(\"External Temperature [°C]\")\n",
    "\n",
    "plt.show()"
   ]
  },
  {
   "cell_type": "code",
   "execution_count": null,
   "id": "0443bd99-ab58-40fd-b144-c98dff7b23d3",
   "metadata": {},
   "outputs": [],
   "source": [
    "fig, axs=plt.subplots(2,1, figsize=big_figsize)\n",
    "\n",
    "building=\"A\"\n",
    "weather=\"hot\"\n",
    "\n",
    "for retrofit, ax  in zip([\"original\", \"retrofit_D\"], axs):\n",
    "    df=dfs[building, weather, retrofit]\n",
    "    ax.scatter(df.T_ext, df.cop, s=1.5, color=\"gray\")\n",
    "    ax.set_ylabel(\"COP\")\n",
    "    ax.legend([retrofit])\n",
    "\n",
    "fig.suptitle(\"Performance of cooling\")\n",
    "axs[1].set_xlabel(\"External Temperature [°C]\")\n",
    "\n",
    "plt.show()"
   ]
  },
  {
   "cell_type": "markdown",
   "id": "9be996ea-9508-48b1-846c-db74829006c6",
   "metadata": {},
   "source": [
    "## Compare Anomalies"
   ]
  },
  {
   "cell_type": "code",
   "execution_count": null,
   "id": "c20c055c-6577-41ca-bf5f-40b8e4a89f25",
   "metadata": {},
   "outputs": [],
   "source": [
    "anomalies_def={}\n",
    "anomalies_def[\"A\"]=\"Malfunzionamento Macchina Frigorifera\"\n",
    "anomalies_def[\"B\"]=\"Manutenzione Rack\"\n",
    "anomalies_def[\"C\"]=\"Attivazione tasto comfort\"\n",
    "anomalies_def[\"D\"]=\"Free cooling OFF\"\n",
    "anomalies_def[\"E\"]=\"Cooling Sytem Severe Misfunctioning\""
   ]
  },
  {
   "cell_type": "code",
   "execution_count": null,
   "id": "c0cf1721-baa8-43a3-af70-0c32522415ea",
   "metadata": {},
   "outputs": [],
   "source": [
    "def plot_anomaly(dfs, building, weather, anomaly, anomalies_def, save=\"Yes\", title=\"Yes\"):\n",
    "\n",
    "    legend=[\"Original\", \"Anomaly\"]\n",
    "    \n",
    "    df_original=dfs[building, weather, \"original\"]\n",
    "    df_anom=dfs[building, weather, \"anomaly_\"+anomaly]\n",
    "    \n",
    "    fig, axs=plt.subplots(1, figsize=big_figsize)\n",
    "    \n",
    "    for df, ts in zip([df_original, df_anom], [\"Original\", \"Anomaly\"]):\n",
    "        axs.plot(df.P, color=colors[ts])\n",
    "    \n",
    "    \n",
    "    axs.grid(True, which='both',axis='both',alpha=0.5, linewidth=0.45)\n",
    "    axs.tick_params(labelsize=font_size)\n",
    "    \n",
    "    plt.legend([\"Original\", \"Anomaly \"+anomaly], fontsize=font_size)\n",
    "    if title==\"Yes\":\n",
    "        plt.title(anomalies_def[anomaly], fontsize=font_size)\n",
    "    plt.xlabel(\"Time step [h]\", fontsize=font_size)\n",
    "    plt.ylabel(\"Electrical Load [kW]\", fontsize=font_size)\n",
    "\n",
    "    if save==\"Yes\":\n",
    "        fig.savefig(figures_path+\"/anomaly_\"+anomaly+\"_twoyears_comparative_ts\", bbox_inches='tight', dpi=200)\n",
    "\n",
    "    return None"
   ]
  },
  {
   "cell_type": "code",
   "execution_count": null,
   "id": "a3a12720-02e2-4777-995b-4dd75205b29b",
   "metadata": {},
   "outputs": [],
   "source": [
    "building=\"A\"\n",
    "weather=\"hot\"\n",
    "anomaly=\"A\"\n",
    "\n",
    "plot_anomaly(dfs, building, weather, anomaly, anomalies_def, save=\"Yes\", title=\"Yes\")"
   ]
  },
  {
   "cell_type": "code",
   "execution_count": null,
   "id": "efae93bc-79dc-455b-b503-bdbfb459f672",
   "metadata": {},
   "outputs": [],
   "source": [
    "building=\"A\"\n",
    "weather=\"hot\"\n",
    "anomaly=\"A\"\n",
    "\n",
    "df_original=dfs[building, weather, \"original\"]\n",
    "df_anom=dfs[building, weather, \"anomaly_A\"]\n",
    "index_anomaly=df[df_anom.real_anomaly==1].index\n",
    "ext_index=range(index_anomaly.min()-5, index_anomaly.max()+5)\n",
    "\n",
    "fig, axs=plt.subplots(3, figsize=big_figsize)\n",
    "#axs[0].set_title(\"Abnormal cop and loads for a degradation \\nof the cooling system performance of \"+str(max(df_anom.cop_anom_degr.unique())*100)+\"%\")\n",
    "for df, ts in zip([df_original, df_anom], [\"Original\", \"Anomaly\"]):\n",
    "    axs[0].plot(df.loc[ext_index, \"cop\"], color=colors[ts])\n",
    "#axs[0].plot(df_anom.loc[ext_index, \"cop\"])\n",
    "#ax[0].legend(legend)\n",
    "    axs[1].plot(df.loc[ext_index, \"P_cool\"], color=colors[ts])\n",
    "#axs[1].plot(df_anom.loc[ext_index, \"P_cool\"])\n",
    "#axs[1].legend(legend, fontsize=font_size)\n",
    "    axs[2].plot(df.loc[ext_index, \"P\"], color=colors[ts])\n",
    "#axs[2].plot(df_anom.loc[ext_index, \"P\"])\n",
    "#ax[2].legend(legend)\n",
    "\n",
    "for ax in axs:\n",
    "    ax.grid(True, which='both',axis='both',alpha=0.5, linewidth=0.45)\n",
    "    ax.tick_params(labelsize=font_size)\n",
    "    ylims=ax.get_ylim()\n",
    "    ax.vlines([index_anomaly.min(), index_anomaly.max() ], -100000, 1000000, color=\"black\", linestyle=\"--\")\n",
    "    ax.set_ylim(ylims)\n",
    "\n",
    "axs[0].legend(legend, fontsize=font_size)\n",
    "axs[0].set_ylabel(\"COP\", fontsize=font_size)\n",
    "axs[1].set_ylabel(\"Cooling Load [kW]\", fontsize=font_size)\n",
    "axs[2].set_ylabel(\"Total Load [kW]\", fontsize=font_size)\n",
    "axs[2].set_xlabel(\"Time step [h]\", fontsize=font_size)\n",
    "\n",
    "for ax in [axs[0], axs[1]]:\n",
    "    ax.set_xticks([])\n",
    "\n",
    "plt.tight_layout()\n",
    "fig.savefig(figures_path+\"/sim_anomaly_\"+anomaly, bbox_inches='tight', dpi=450)"
   ]
  },
  {
   "cell_type": "code",
   "execution_count": null,
   "id": "7f43a8b3-ac78-492d-a495-56b5a8ec1973",
   "metadata": {},
   "outputs": [],
   "source": [
    "building=\"A\"\n",
    "weather=\"hot\"\n",
    "anomaly=\"B\"\n",
    "\n",
    "plot_anomaly(dfs, building, weather, anomaly, anomalies_def, save=\"Yes\", title=\"Yes\")"
   ]
  },
  {
   "cell_type": "code",
   "execution_count": null,
   "id": "25172913-abf2-4a16-8792-e95e4faf04e9",
   "metadata": {},
   "outputs": [],
   "source": [
    "\n",
    "df_original=dfs[building, weather, \"original\"]\n",
    "df_anom=dfs[building, weather, \"anomaly_\"+anomaly]\n",
    "\n",
    "fig, axs=plt.subplots(1, figsize=big_figsize)\n",
    "index_anomaly=df[df_anom.anomaly==1].index\n",
    "ext_index=range(index_anomaly.min()-5, index_anomaly.max()+5)\n",
    "\n",
    "for df, ts in zip([df_original, df_anom], [\"Original\", \"Anomaly\"]):\n",
    "    axs.plot(df.loc[ext_index, \"P\"], color=colors[ts])\n",
    "\n",
    "ylims=axs.get_ylim()\n",
    "axs.vlines([index_anomaly.min(), index_anomaly.max() ], -100000, 1000000, color=\"black\", linestyle=\"--\")\n",
    "axs.set_ylim(ylims)\n",
    "\n",
    "axs.grid(True, which='both',axis='both',alpha=0.5, linewidth=0.45)\n",
    "axs.tick_params(labelsize=font_size)\n",
    "\n",
    "plt.legend(legend, fontsize=font_size)\n",
    "plt.xlabel(\"Time step [h]\", fontsize=font_size)\n",
    "plt.ylabel(\"Electrical Load [kW]\", fontsize=font_size)\n",
    "fig.savefig(figures_path+\"/sim_anomaly_\"+anomaly, bbox_inches='tight', dpi=450)"
   ]
  },
  {
   "cell_type": "code",
   "execution_count": null,
   "id": "65fae217-e6be-47e9-9107-acb2f3852a93",
   "metadata": {},
   "outputs": [],
   "source": [
    "building=\"A\"\n",
    "weather=\"cold\"\n",
    "anomaly=\"C\"\n",
    "\n",
    "plot_anomaly(dfs, building, weather, anomaly, anomalies_def, save=\"Yes\", title=\"Yes\")"
   ]
  },
  {
   "cell_type": "code",
   "execution_count": null,
   "id": "30de802e-ba12-48ee-a0b7-704960beeff5",
   "metadata": {},
   "outputs": [],
   "source": [
    "df_original=dfs[building, weather, \"original\"]\n",
    "df_anom=dfs[building, weather, \"anomaly_\"+anomaly]\n",
    "\n",
    "index_anomaly=df[df_anom.anomaly==1].index\n",
    "ext_index=range(index_anomaly.min()-5, index_anomaly.max()+5)\n",
    "\n",
    "fig, axs=plt.subplots(2, figsize=big_figsize)\n",
    "axs[0].plot(df_anom.loc[ext_index, \"T_ext\"], color=\"cornflowerblue\")\n",
    "\n",
    "for df, ts in zip([df_original, df_anom], [\"Original\", \"Anomaly\"]):\n",
    "    axs[0].plot(df.loc[ext_index, \"T_in\"], color=colors[ts])\n",
    "    axs[1].plot(df.loc[ext_index, \"P\"], color=colors[ts])\n",
    "\n",
    "for ax in axs:\n",
    "    ax.grid(True, which='both',axis='both',alpha=0.5, linewidth=0.45)\n",
    "    ax.tick_params(labelsize=font_size)\n",
    "    ylims=ax.get_ylim()\n",
    "    ax.vlines([index_anomaly.min(), index_anomaly.max() ], -100000, 1000000, color=\"black\", linestyle=\"--\")\n",
    "    ax.set_ylim(ylims)\n",
    "    \n",
    "axs[0].legend([\"T_ext\", \"T_in, Anom\", \"T_in\"], fontsize=font_size)\n",
    "axs[0].set_ylabel(\"Temperature [°C]\", fontsize=font_size)\n",
    "axs[1].set_ylabel(\"Electrical Load [kW]\", fontsize=font_size)\n",
    "axs[0].set_xticks([])\n",
    "axs[1].set_xlabel(\"Time step [h]\", fontsize=font_size)\n",
    "\n",
    "plt.tight_layout()\n",
    "fig.savefig(figures_path+\"/sim_anomaly_\"+anomaly, bbox_inches='tight', dpi=450)"
   ]
  },
  {
   "cell_type": "code",
   "execution_count": null,
   "id": "092bb8ed-8e30-47bc-aa58-9ea8012e5f12",
   "metadata": {},
   "outputs": [],
   "source": [
    "building=\"A\"\n",
    "weather=\"hot\"\n",
    "anomaly=\"D\"\n",
    "\n",
    "plot_anomaly(dfs, building, weather, anomaly, anomalies_def, save=\"Yes\", title=\"Yes\")"
   ]
  },
  {
   "cell_type": "code",
   "execution_count": null,
   "id": "fd8a49a3-42a5-4ba0-965f-7a328a570344",
   "metadata": {},
   "outputs": [],
   "source": [
    "df_original=dfs[building, weather, \"original\"]\n",
    "df_anom=dfs[building, weather, \"anomaly_\"+anomaly]\n",
    "\n",
    "index_anomaly=df[df_anom.anomaly==1].index\n",
    "ext_index=range(index_anomaly.min()-15, index_anomaly.max()+15)\n",
    "\n",
    "fig, axs=plt.subplots(1, figsize=big_figsize)\n",
    "\n",
    "for df, ts in zip([df_original, df_anom], [\"Original\", \"Anomaly\"]):\n",
    "    axs.plot(df.loc[ext_index, \"P\"], color=colors[ts])\n",
    "\n",
    "\n",
    "axs.grid(True, which='both',axis='both',alpha=0.5, linewidth=0.45)\n",
    "axs.tick_params(labelsize=font_size)\n",
    "ylims=axs.get_ylim()\n",
    "axs.vlines([index_anomaly.min(), index_anomaly.max() ], -100000, 1000000, color=\"black\", linestyle=\"--\")\n",
    "axs.set_ylim(ylims)\n",
    "\n",
    "axs.legend(legend, fontsize=font_size)\n",
    "plt.xlabel(\"Time step [h]\", fontsize=font_size)\n",
    "plt.ylabel(\"Electrical Load [kW]\", fontsize=font_size)\n",
    "fig.savefig(figures_path+\"/sim_anomaly_\"+anomaly, bbox_inches='tight', dpi=450)"
   ]
  },
  {
   "cell_type": "code",
   "execution_count": null,
   "id": "36f863a7-3c79-4eaf-a922-d7f37142f7d5",
   "metadata": {},
   "outputs": [],
   "source": [
    "building=\"A\"\n",
    "weather=\"cold\"\n",
    "anomaly=\"E\"\n",
    "\n",
    "plot_anomaly(dfs, building, weather, anomaly, anomalies_def, save=\"Yes\", title=\"Yes\")"
   ]
  },
  {
   "cell_type": "code",
   "execution_count": null,
   "id": "1279acdc-5308-436f-8880-131b9145e2c7",
   "metadata": {},
   "outputs": [],
   "source": [
    "df_original=dfs[building, weather, \"original\"]\n",
    "df_anom=dfs[building, weather, \"anomaly_\"+anomaly]\n",
    "\n",
    "index_anomaly=df[df_anom.anomaly==1].index\n",
    "ext_index=range(index_anomaly.min()-5, index_anomaly.max()+5)\n",
    "\n",
    "fig, axs=plt.subplots(2, figsize=big_figsize)\n",
    "\n",
    "for df, ts in zip([df_original, df_anom], [\"Original\", \"Anomaly\"]):\n",
    "    axs[0].plot(df.loc[ext_index, \"T_in\"], color=colors[ts])\n",
    "    axs[1].plot(df.loc[ext_index, \"P\"], color=colors[ts])\n",
    "\n",
    "\n",
    "axs[0].legend(legend, fontsize=font_size)\n",
    "plt.xlabel(\"Time step [h]\", fontsize=font_size)\n",
    "\n",
    "for ax in axs:\n",
    "    ax.grid(True, which='both',axis='both',alpha=0.5, linewidth=0.45)\n",
    "    ax.tick_params(labelsize=font_size)\n",
    "    ylims=ax.get_ylim()\n",
    "    ax.vlines([index_anomaly.min(), index_anomaly.max() ], -100000, 1000000, color=\"black\", linestyle=\"--\")\n",
    "    ax.set_ylim(ylims)\n",
    "    \n",
    "axs[0].set_ylabel(\"Indoor temperature [°C]\", fontsize=font_size)\n",
    "axs[1].set_ylabel(\"Electrical Load [kW]\", fontsize=font_size)\n",
    "fig.savefig(figures_path+\"/sim_anomaly_\"+anomaly, bbox_inches='tight', dpi=450)"
   ]
  },
  {
   "cell_type": "markdown",
   "id": "557a20e1-3d52-4723-8de9-5eb51c9ef6fa",
   "metadata": {},
   "source": [
    "## Compare Retrofits"
   ]
  },
  {
   "cell_type": "code",
   "execution_count": null,
   "id": "d3457f86-f014-4afd-95db-e87f222792ad",
   "metadata": {},
   "outputs": [],
   "source": [
    "retrofits_def={}\n",
    "retrofits_def[\"A\"]=\"Riduzione isolamento involucro\"\n",
    "retrofits_def[\"B\"]=\"Riduzione assorbività involucro\"\n",
    "retrofits_def[\"C\"]=\"Modifica temperatura set point\"\n",
    "retrofits_def[\"D\"]=\"Sostituzione macchina frigorifera\"\n",
    "retrofits_def[\"E\"]=\"Decommissioning\""
   ]
  },
  {
   "cell_type": "code",
   "execution_count": null,
   "id": "d14ac9eb-be55-4ff9-905a-299db7e4c996",
   "metadata": {},
   "outputs": [],
   "source": [
    "def plot_retrofit(dfs, building, weather, retrofit, anomalies_def, save=\"Yes\", title=\"Yes\"):\n",
    "    df_original=dfs[building, weather, \"original\"]\n",
    "    df_retrofit=dfs[building, weather, \"retrofit_\"+retrofit]\n",
    "    \n",
    "    fig, axs=plt.subplots(1, figsize=big_figsize)\n",
    "    \n",
    "    for df, ts in zip([df_original, df_retrofit], [\"Original\", \"Retrofit\"]):\n",
    "        axs.plot(df.P, color=colors[ts])\n",
    "    \n",
    "    \n",
    "    axs.grid(True, which='both',axis='both',alpha=0.5, linewidth=0.45)\n",
    "    axs.tick_params(labelsize=font_size)\n",
    "    \n",
    "    plt.legend([\"Original\", \"Retrofit \"+retrofit], fontsize=font_size)\n",
    "    if title==\"Yes\":\n",
    "        plt.title(retrofits_def[retrofit], fontsize=font_size)\n",
    "    plt.xlabel(\"Time step [h]\", fontsize=font_size)\n",
    "    plt.ylabel(\"Electrical Load [kW]\", fontsize=font_size)\n",
    "\n",
    "    if save==\"Yes\":\n",
    "        fig.savefig(figures_path+\"/retrofit_\"+retrofit+\"_twoyears_comparative_ts\", bbox_inches='tight', dpi=200)\n",
    "\n",
    "    return None"
   ]
  },
  {
   "cell_type": "code",
   "execution_count": null,
   "id": "a6583c5f-c5c5-4dc4-bd91-b73b754de2a9",
   "metadata": {},
   "outputs": [],
   "source": [
    "savings_scenarios={}\n",
    "PUE_scenarios_df=pd.DataFrame(index=[\"Buil. A, Torino\", \"Buil. A, Palermo\", \"Buil. B, Torino\", \"Buil. B, Palermo\"], columns=[\"Original\", \"A\", \"B\", \"C\", \"D\", \"E\"])\n",
    "rel_savings_scenarios_df=PUE_scenarios_df.copy()"
   ]
  },
  {
   "cell_type": "code",
   "execution_count": null,
   "id": "7a34a707-9f04-49d3-b074-cd44fcc366c4",
   "metadata": {},
   "outputs": [],
   "source": [
    "building=\"A\"\n",
    "weather=\"cold\"\n",
    "retrofit=\"A\"\n",
    "\n",
    "plot_retrofit(dfs, building, weather, retrofit, anomalies_def, save=\"Yes\", title=\"Yes\")"
   ]
  },
  {
   "cell_type": "code",
   "execution_count": null,
   "id": "576b2e5e-67fc-4a96-a368-fc4636860b57",
   "metadata": {},
   "outputs": [],
   "source": [
    "savings=pd.DataFrame()\n",
    "i=0\n",
    "\n",
    "for building in [\"A\", \"B\"]:\n",
    "    for weather in [\"cold\", \"hot\"]:\n",
    "        df_original=dfs[building, weather, \"original\"]\n",
    "        df_retrofit=dfs[building, weather, \"retrofit_A\"]\n",
    "        PUE_original=calc_PUE(df_original.P, df_original.P_tlc)\n",
    "        PUE_retrofit=calc_PUE(df_retrofit.P, df_retrofit.P_tlc)\n",
    "                # print(\"\\nBuilding: \"+building+ \", Weather: \"+weather)\n",
    "        # print(\"\\nThe retrofit determines a change of PUE from \"+str(PUE_original)+\" to \"+str(PUE_retrofit))\n",
    "        savings.loc[building, weather]=str(PUE_original[0].round(3))+\" to \"+str(PUE_retrofit[0].round(3))\n",
    "        PUE_scenarios_df.iloc[i, :][\"A\"]=PUE_retrofit\n",
    "        PUE_scenarios_df.iloc[i, :][\"Original\"]=PUE_original\n",
    "        rel_savings_scenarios_df.iloc[i,:][\"Original\"]=1\n",
    "        rel_savings_scenarios_df.iloc[i,:][\"A\"]=df_retrofit.P.sum()/df_original.P.sum()\n",
    "        i=i+1\n",
    "\n",
    "display(savings)\n",
    "savings_scenarios[\"Retrofit A\"]=savings"
   ]
  },
  {
   "cell_type": "code",
   "execution_count": null,
   "id": "295360ff-c80c-43a3-ac4a-9d8f1c25e9a5",
   "metadata": {},
   "outputs": [],
   "source": [
    "building=\"A\"\n",
    "weather=\"cold\"\n",
    "retrofit=\"B\"\n",
    "\n",
    "plot_retrofit(dfs, building, weather, retrofit, anomalies_def, save=\"Yes\", title=\"Yes\")"
   ]
  },
  {
   "cell_type": "code",
   "execution_count": null,
   "id": "d3959173-4b4a-4fb4-859a-c1848ee38291",
   "metadata": {},
   "outputs": [],
   "source": [
    "savings=pd.DataFrame()\n",
    "i=0\n",
    "\n",
    "for building in [\"A\", \"B\"]:\n",
    "    for weather in [\"cold\", \"hot\"]:\n",
    "        df_original=dfs[building, weather, \"original\"]\n",
    "        df_retrofit=dfs[building, weather, \"retrofit_B\"]\n",
    "        PUE_original=calc_PUE(df_original.P, df_original.P_tlc)\n",
    "        PUE_retrofit=calc_PUE(df_retrofit.P, df_retrofit.P_tlc)\n",
    "                # print(\"\\nBuilding: \"+building+ \", Weather: \"+weather)\n",
    "        # print(\"\\nThe retrofit determines a change of PUE from \"+str(PUE_original)+\" to \"+str(PUE_retrofit))\n",
    "        savings.loc[building, weather]=str(PUE_original[0].round(3))+\" to \"+str(PUE_retrofit[0].round(3))\n",
    "        PUE_scenarios_df.iloc[i, :][\"B\"]=PUE_retrofit\n",
    "        rel_savings_scenarios_df.iloc[i,:][\"B\"]=df_retrofit.P.sum()/df_original.P.sum()\n",
    "        i=i+1\n",
    "\n",
    "display(savings)\n",
    "savings_scenarios[\"Retrofit B\"]=savings"
   ]
  },
  {
   "cell_type": "code",
   "execution_count": null,
   "id": "3797e9fd-39e1-48ba-bdcc-aef4a335255f",
   "metadata": {},
   "outputs": [],
   "source": [
    "building=\"A\"\n",
    "weather=\"cold\"\n",
    "retrofit=\"C\"\n",
    "\n",
    "plot_retrofit(dfs, building, weather, retrofit, anomalies_def, save=\"Yes\", title=\"Yes\")"
   ]
  },
  {
   "cell_type": "code",
   "execution_count": null,
   "id": "088f53ea-3058-40f0-97f9-b43e631de079",
   "metadata": {},
   "outputs": [],
   "source": [
    "savings=pd.DataFrame()\n",
    "i=0\n",
    "\n",
    "for building in [\"A\", \"B\"]:\n",
    "    for weather in [\"cold\", \"hot\"]:\n",
    "        df_original=dfs[building, weather, \"original\"]\n",
    "        df_retrofit=dfs[building, weather, \"retrofit_C\"]\n",
    "        PUE_original=calc_PUE(df_original.P, df_original.P_tlc)\n",
    "        PUE_retrofit=calc_PUE(df_retrofit.P, df_retrofit.P_tlc)\n",
    "                # print(\"\\nBuilding: \"+building+ \", Weather: \"+weather)\n",
    "        # print(\"\\nThe retrofit determines a change of PUE from \"+str(PUE_original)+\" to \"+str(PUE_retrofit))\n",
    "        savings.loc[building, weather]=str(PUE_original[0].round(3))+\" to \"+str(PUE_retrofit[0].round(3))\n",
    "        PUE_scenarios_df.iloc[i, :][\"C\"]=PUE_retrofit\n",
    "        rel_savings_scenarios_df.iloc[i,:][\"C\"]=df_retrofit.P.sum()/df_original.P.sum()\n",
    "        i=i+1\n",
    "\n",
    "display(savings)\n",
    "savings_scenarios[\"Retrofit C\"]=savings"
   ]
  },
  {
   "cell_type": "code",
   "execution_count": null,
   "id": "b93ac628-a0ab-4ec8-9b3c-948b71bc7f42",
   "metadata": {},
   "outputs": [],
   "source": [
    "building=\"A\"\n",
    "weather=\"cold\"\n",
    "retrofit=\"D\"\n",
    "\n",
    "plot_retrofit(dfs, building, weather, retrofit, anomalies_def, save=\"Yes\", title=\"Yes\")"
   ]
  },
  {
   "cell_type": "code",
   "execution_count": null,
   "id": "36d6ac35-6bcc-4dca-a520-4f60215f6aa1",
   "metadata": {},
   "outputs": [],
   "source": [
    "savings=pd.DataFrame()\n",
    "i=0\n",
    "\n",
    "for building in [\"A\", \"B\"]:\n",
    "    for weather in [\"cold\", \"hot\"]:\n",
    "        df_original=dfs[building, weather, \"original\"]\n",
    "        df_retrofit=dfs[building, weather, \"retrofit_D\"]\n",
    "        PUE_original=calc_PUE(df_original.P, df_original.P_tlc)\n",
    "        PUE_retrofit=calc_PUE(df_retrofit.P, df_retrofit.P_tlc)\n",
    "                # print(\"\\nBuilding: \"+building+ \", Weather: \"+weather)\n",
    "        # print(\"\\nThe retrofit determines a change of PUE from \"+str(PUE_original)+\" to \"+str(PUE_retrofit))\n",
    "        savings.loc[building, weather]=str(PUE_original[0].round(3))+\" to \"+str(PUE_retrofit[0].round(3))\n",
    "        PUE_scenarios_df.iloc[i, :][\"D\"]=PUE_retrofit\n",
    "        rel_savings_scenarios_df.iloc[i,:][\"D\"]=df_retrofit.P.sum()/df_original.P.sum()\n",
    "        i=i+1\n",
    "\n",
    "display(savings)\n",
    "savings_scenarios[\"Retrofit D\"]=savings"
   ]
  },
  {
   "cell_type": "code",
   "execution_count": null,
   "id": "95c85bff-b32e-4b0b-8f02-767a51b49ae4",
   "metadata": {},
   "outputs": [],
   "source": [
    "building=\"A\"\n",
    "weather=\"cold\"\n",
    "retrofit=\"E\"\n",
    "\n",
    "plot_retrofit(dfs, building, weather, retrofit, anomalies_def, save=\"Yes\", title=\"Yes\")"
   ]
  },
  {
   "cell_type": "code",
   "execution_count": null,
   "id": "64d3bce6-3eac-4ef1-9f24-e2859af922e2",
   "metadata": {},
   "outputs": [],
   "source": [
    "savings=pd.DataFrame()\n",
    "i=0\n",
    "\n",
    "for building in [\"A\", \"B\"]:\n",
    "    for weather in [\"cold\", \"hot\"]:\n",
    "        df_original=dfs[building, weather, \"original\"]\n",
    "        df_retrofit=dfs[building, weather, \"retrofit_E\"]\n",
    "        PUE_original=calc_PUE(df_original.P, df_original.P_tlc)\n",
    "        PUE_retrofit=calc_PUE(df_retrofit.P, df_retrofit.P_tlc)\n",
    "                # print(\"\\nBuilding: \"+building+ \", Weather: \"+weather)\n",
    "        # print(\"\\nThe retrofit determines a change of PUE from \"+str(PUE_original)+\" to \"+str(PUE_retrofit))\n",
    "        savings.loc[building, weather]=str(PUE_original[0].round(3))+\" to \"+str(PUE_retrofit[0].round(3))\n",
    "        PUE_scenarios_df.iloc[i, :][\"E\"]=PUE_retrofit\n",
    "        rel_savings_scenarios_df.iloc[i,:][\"E\"]=df_retrofit.P.sum()/df_original.P.sum()\n",
    "        i=i+1\n",
    "\n",
    "display(savings)\n",
    "savings_scenarios[\"Retrofit E\"]=savings"
   ]
  },
  {
   "cell_type": "markdown",
   "id": "1315adf1-27fc-4fd5-9e95-e528580f7c37",
   "metadata": {},
   "source": [
    "### Overview of the benefits of retrofits"
   ]
  },
  {
   "cell_type": "code",
   "execution_count": null,
   "id": "610e7461-35e5-467a-a3f9-90047763dd29",
   "metadata": {},
   "outputs": [],
   "source": [
    "fig, axs=plt.subplots(1,2, figsize=(8,4))\n",
    "axs[0].plot(rel_savings_scenarios_df.T, \"-X\")\n",
    "axs[0].legend(rel_savings_scenarios_df.index)\n",
    "axs[1].plot(PUE_scenarios_df.T, \"-X\")\n",
    "axs[1].legend(PUE_scenarios_df.index)\n",
    "axs[0].set_title(\"Percentage savings (total energy)\")\n",
    "axs[1].set_title(\"PUE\")"
   ]
  },
  {
   "cell_type": "code",
   "execution_count": null,
   "id": "70112609-b6a4-4bb9-8284-16b82329e198",
   "metadata": {},
   "outputs": [],
   "source": []
  }
 ],
 "metadata": {
  "kernelspec": {
   "display_name": "Python 3 (ipykernel)",
   "language": "python",
   "name": "python3"
  },
  "language_info": {
   "codemirror_mode": {
    "name": "ipython",
    "version": 3
   },
   "file_extension": ".py",
   "mimetype": "text/x-python",
   "name": "python",
   "nbconvert_exporter": "python",
   "pygments_lexer": "ipython3",
   "version": "3.9.18"
  }
 },
 "nbformat": 4,
 "nbformat_minor": 5
}
