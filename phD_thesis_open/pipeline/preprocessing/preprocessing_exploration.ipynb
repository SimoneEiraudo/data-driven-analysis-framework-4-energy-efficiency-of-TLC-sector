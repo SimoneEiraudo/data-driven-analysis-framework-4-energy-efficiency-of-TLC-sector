{
 "cells": [
  {
   "cell_type": "code",
   "execution_count": null,
   "metadata": {},
   "outputs": [],
   "source": [
    "# Import modules\n",
    "\n",
    "#import wget\n",
    "#import constants as const \n",
    "import numpy as np\n",
    "from scipy import stats\n",
    "import pandas as pd\n",
    "import matplotlib.pyplot as plt\n",
    "from scipy.stats import median_abs_deviation\n",
    "import statistics\n",
    "import seaborn as sns\n",
    "import random\n",
    "import sys\n",
    "import os\n",
    "from pathlib import Path\n",
    "PROJECT_DIR =Path(os.path.abspath('')).parents[1]\n",
    "\n",
    "sys.path.append(os.fspath(PROJECT_DIR))\n",
    "from pipeline.definitions import *\n",
    "from pipeline.preprocessing_fx import data_exploration, check_outliers, statistical_prepro\n",
    "\n",
    "from os import listdir\n",
    "from os.path import isfile, join\n",
    "\n",
    "import matplotlib as mpl\n",
    "import colorsys\n",
    "import matplotlib.colors as mc"
   ]
  },
  {
   "cell_type": "markdown",
   "metadata": {},
   "source": [
    "### Select graphic settings"
   ]
  },
  {
   "cell_type": "code",
   "execution_count": null,
   "metadata": {},
   "outputs": [],
   "source": [
    "graph_setting=\"notebook\" #or \"article\""
   ]
  },
  {
   "cell_type": "code",
   "execution_count": null,
   "metadata": {},
   "outputs": [],
   "source": [
    "if graph_setting==\"article\":\n",
    "    \n",
    "    #journal-quality parameter settings\n",
    "    resolution_factor=2\n",
    "    desired_font=10\n",
    "\n",
    "elif graph_setting==\"notebook\":\n",
    "    resolution_factor=1\n",
    "    desired_font=12\n",
    "    \n",
    "#conversion factors\n",
    "cm_to_inch=0.393701\n",
    "classic_proportion=6.4/4.8\n",
    "golden_rate=1.618\n",
    "\n",
    "#Elsevier column width is 8.4 cm, double-column width is 17.7 cm (in inches: 3.31 and 6.97)\n",
    "small_figsize=(resolution_factor*3.31, resolution_factor*3.31/classic_proportion)\n",
    "big_figsize=(resolution_factor*6.97, resolution_factor*6.97/classic_proportion)\n",
    "\n",
    "#changings regarding fonttypex\n",
    "mpl.rcParams['pdf.fonttype'] = 42\n",
    "mpl.rcParams['ps.fonttype'] = 42\n",
    "mpl.rcParams['font.family'] = \"Arial\"\n",
    "\n",
    "font_size=resolution_factor*desired_font\n",
    "\n",
    "\n",
    "#define path for figures\n",
    "figures_path=FIGURES\n",
    "#check existance of figure path\n",
    "if not os.path.exists(figures_path):\n",
    "    print(\"The selected directory to store figures does not exist\")"
   ]
  },
  {
   "cell_type": "markdown",
   "metadata": {},
   "source": [
    "## Data Import"
   ]
  },
  {
   "cell_type": "code",
   "execution_count": null,
   "metadata": {},
   "outputs": [],
   "source": [
    "# Get dataset and load it as a Pandas DataFrame\n",
    "raw_data = pd.read_csv(os.path.join(DATA_RAW,'all_buildings_dataset'))\n",
    "print(\"Data shape:\")\n",
    "print(raw_data.shape)\n",
    "n_keys=len(raw_data.ID.unique())\n",
    "print(\"\\nThe dataset contains \"+str(n_keys)+\" case studies\\n\")\n",
    "print(\"Case studies contain an average of \"+str(int(raw_data.shape[0]/n_keys))+\" time steps and \"+str(raw_data.shape[1]-1)+\" variables.\\n\")"
   ]
  },
  {
   "cell_type": "code",
   "execution_count": null,
   "metadata": {},
   "outputs": [],
   "source": [
    "raw_data.columns #check dataset variables names"
   ]
  },
  {
   "cell_type": "markdown",
   "metadata": {},
   "source": [
    "Notice that the dataset is provided with hourly data resolution, hence it may be easily seen that it corresponds to two years of measurements. "
   ]
  },
  {
   "cell_type": "markdown",
   "metadata": {},
   "source": [
    "## Data description and check"
   ]
  },
  {
   "cell_type": "code",
   "execution_count": null,
   "metadata": {
    "scrolled": true
   },
   "outputs": [],
   "source": [
    "# Select columns \n",
    "data = raw_data.copy()\n",
    "print('Complete list of column names:')\n",
    "print(data.columns.values)\n",
    "print(\"Data description: \")\n",
    "data_description= pd.read_csv(os.path.join(DATASETS,'buildings_data_description.csv'))\n",
    "display(data_description.drop(\"Comment\", axis=1))"
   ]
  },
  {
   "cell_type": "markdown",
   "metadata": {},
   "source": [
    "#### Check statistics of variables"
   ]
  },
  {
   "cell_type": "code",
   "execution_count": null,
   "metadata": {},
   "outputs": [],
   "source": [
    "data.describe().transpose()"
   ]
  },
  {
   "cell_type": "markdown",
   "metadata": {},
   "source": [
    "#### Counting NaN values in all columns"
   ]
  },
  {
   "cell_type": "code",
   "execution_count": null,
   "metadata": {},
   "outputs": [],
   "source": [
    "nan_count = data.isna().sum()\n",
    "print(nan_count)"
   ]
  },
  {
   "cell_type": "markdown",
   "metadata": {},
   "source": [
    "#### Remove columns with many NaN values and then remove elements with NaN values"
   ]
  },
  {
   "cell_type": "code",
   "execution_count": null,
   "metadata": {},
   "outputs": [],
   "source": [
    "data = data.drop(['UV'],axis=1)\n",
    "\n",
    "# Drop out all instances with NaN values\n",
    "data = data.dropna(axis=0)\n",
    "print(data.shape)"
   ]
  },
  {
   "cell_type": "markdown",
   "metadata": {},
   "source": [
    "## Data Filtering"
   ]
  },
  {
   "cell_type": "code",
   "execution_count": null,
   "metadata": {},
   "outputs": [],
   "source": [
    "# Discard anomalous data from power curve (case study by case Study)\n",
    "good_data=data.copy()\n",
    "IDs=good_data.ID.unique()\n",
    "for caseStudy in IDs:\n",
    "    #access a case study\n",
    "    df_caseStudy = good_data.loc[good_data.ID==caseStudy, :]\n",
    "    good_data=good_data.loc[good_data.ID!=caseStudy, :]\n",
    "\n",
    "    #operate statistical preprocessing of data\n",
    "    good_df_caseStudy, P_estimated, T_estimated =statistical_prepro(df_caseStudy)\n",
    "\n",
    "    #show original VS filtered data\n",
    "    legend=[\"Original\", \"Filtered\"]\n",
    "    fig, axs=plt.subplots(1, figsize=big_figsize)\n",
    "    axs.plot(df_caseStudy.P)\n",
    "    axs.plot(good_df_caseStudy.P)\n",
    "    axs.legend(legend, fontsize=font_size)\n",
    "    axs.tick_params(labelsize=font_size)\n",
    "    axs.set_xlabel(\"Time $[h]$\", fontsize=font_size)\n",
    "    axs.set_ylabel(\"Electrical Load $[kWh]$\", fontsize=font_size)\n",
    "    axs.set_xticks([])\n",
    "    \n",
    "    good_data=pd.concat([good_data, good_df_caseStudy])\n",
    "\n",
    "    fig2, axs=plt.subplots(1, figsize=big_figsize)\n",
    "    check_outliers(data.loc[data.ID==caseStudy,:], good_data.loc[good_data.ID==caseStudy, :], data_description, P_estimated, T_estimated,  subplot=axs, font_size=font_size)\n",
    "    axs.set_title(\"Power curve for statistical filtering of data for \"+caseStudy)"
   ]
  },
  {
   "cell_type": "code",
   "execution_count": null,
   "metadata": {},
   "outputs": [],
   "source": []
  }
 ],
 "metadata": {
  "kernelspec": {
   "display_name": "Python 3 (ipykernel)",
   "language": "python",
   "name": "python3"
  },
  "language_info": {
   "codemirror_mode": {
    "name": "ipython",
    "version": 3
   },
   "file_extension": ".py",
   "mimetype": "text/x-python",
   "name": "python",
   "nbconvert_exporter": "python",
   "pygments_lexer": "ipython3",
   "version": "3.9.18"
  },
  "vscode": {
   "interpreter": {
    "hash": "88688c6e448969839ee4163a6b670935eee153233d49c269b97f67337e0696f7"
   }
  }
 },
 "nbformat": 4,
 "nbformat_minor": 4
}
